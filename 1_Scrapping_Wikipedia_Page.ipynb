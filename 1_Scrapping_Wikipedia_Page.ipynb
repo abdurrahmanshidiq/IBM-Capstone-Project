{
  "nbformat": 4,
  "nbformat_minor": 0,
  "metadata": {
    "colab": {
      "name": "1. Scrapping Wikipedia Page",
      "provenance": [],
      "authorship_tag": "ABX9TyOYROD0C/cGD/W98RBdpr3H",
      "include_colab_link": true
    },
    "kernelspec": {
      "name": "python3",
      "display_name": "Python 3"
    },
    "language_info": {
      "name": "python"
    }
  },
  "cells": [
    {
      "cell_type": "markdown",
      "metadata": {
        "id": "view-in-github",
        "colab_type": "text"
      },
      "source": [
        "<a href=\"https://colab.research.google.com/github/abdurrahmanshidiq/IBM-Capstone-Project/blob/master/1_Scrapping_Wikipedia_Page.ipynb\" target=\"_parent\"><img src=\"https://colab.research.google.com/assets/colab-badge.svg\" alt=\"Open In Colab\"/></a>"
      ]
    },
    {
      "cell_type": "code",
      "metadata": {
        "id": "qYMgFQXLKOLV"
      },
      "source": [
        "import numpy as np\n",
        "import pandas as pd\n",
        "\n",
        "# pd.set_option('display.max_rows', None)\n",
        "pd.set_option('display.max_columns', None)\n",
        "\n",
        "from bs4 import BeautifulSoup\n",
        "import requests"
      ],
      "execution_count": 1,
      "outputs": []
    },
    {
      "cell_type": "code",
      "metadata": {
        "id": "SVyDZGgFKbqe"
      },
      "source": [
        "url = 'https://en.wikipedia.org/wiki/List_of_postal_codes_of_Canada:_M'\n",
        "raw = requests.get(url).text\n",
        "\n",
        "soup = BeautifulSoup(raw, 'html5lib')"
      ],
      "execution_count": 2,
      "outputs": []
    },
    {
      "cell_type": "code",
      "metadata": {
        "colab": {
          "base_uri": "https://localhost:8080/"
        },
        "id": "r-FDQ91ZKe5f",
        "outputId": "59e4c3c2-cc18-40f2-b5e2-1603161b4742"
      },
      "source": [
        "len(soup.find('table'))"
      ],
      "execution_count": 3,
      "outputs": [
        {
          "output_type": "execute_result",
          "data": {
            "text/plain": [
              "2"
            ]
          },
          "metadata": {
            "tags": []
          },
          "execution_count": 3
        }
      ]
    },
    {
      "cell_type": "code",
      "metadata": {
        "id": "gTfQd6wBKhZs"
      },
      "source": [
        "table = soup.find_all('table')[0].find_all('td')\n",
        "\n",
        "post_code = []\n",
        "borough = []\n",
        "neigh = []\n",
        "\n",
        "for i,row in enumerate(table):\n",
        "  if table[i].span.text == 'Not assigned':\n",
        "    pass\n",
        "  else:\n",
        "    post_code.append(table[i].p.text[:3])\n",
        "    borough.append(table[i].span.text.split('(')[0])\n",
        "    neigh.append(table[i].span.text.split('(')[1].replace('/',',').replace(')',''.strip(' ')))"
      ],
      "execution_count": 4,
      "outputs": []
    },
    {
      "cell_type": "code",
      "metadata": {
        "colab": {
          "base_uri": "https://localhost:8080/",
          "height": 419
        },
        "id": "gBIGTMWaKj6T",
        "outputId": "c0bd3a4f-678d-459d-81cf-2267df13d3b9"
      },
      "source": [
        "df_toronto = pd.DataFrame(columns=['PostalCode', 'Borough', 'Neighborhood'])\n",
        "df_toronto['PostalCode'] = post_code\n",
        "df_toronto['Borough'] = borough\n",
        "df_toronto['Neighborhood'] = neigh\n",
        "\n",
        "df_toronto"
      ],
      "execution_count": 5,
      "outputs": [
        {
          "output_type": "execute_result",
          "data": {
            "text/html": [
              "<div>\n",
              "<style scoped>\n",
              "    .dataframe tbody tr th:only-of-type {\n",
              "        vertical-align: middle;\n",
              "    }\n",
              "\n",
              "    .dataframe tbody tr th {\n",
              "        vertical-align: top;\n",
              "    }\n",
              "\n",
              "    .dataframe thead th {\n",
              "        text-align: right;\n",
              "    }\n",
              "</style>\n",
              "<table border=\"1\" class=\"dataframe\">\n",
              "  <thead>\n",
              "    <tr style=\"text-align: right;\">\n",
              "      <th></th>\n",
              "      <th>PostalCode</th>\n",
              "      <th>Borough</th>\n",
              "      <th>Neighborhood</th>\n",
              "    </tr>\n",
              "  </thead>\n",
              "  <tbody>\n",
              "    <tr>\n",
              "      <th>0</th>\n",
              "      <td>M3A</td>\n",
              "      <td>North York</td>\n",
              "      <td>Parkwoods</td>\n",
              "    </tr>\n",
              "    <tr>\n",
              "      <th>1</th>\n",
              "      <td>M4A</td>\n",
              "      <td>North York</td>\n",
              "      <td>Victoria Village</td>\n",
              "    </tr>\n",
              "    <tr>\n",
              "      <th>2</th>\n",
              "      <td>M5A</td>\n",
              "      <td>Downtown Toronto</td>\n",
              "      <td>Regent Park , Harbourfront</td>\n",
              "    </tr>\n",
              "    <tr>\n",
              "      <th>3</th>\n",
              "      <td>M6A</td>\n",
              "      <td>North York</td>\n",
              "      <td>Lawrence Manor , Lawrence Heights</td>\n",
              "    </tr>\n",
              "    <tr>\n",
              "      <th>4</th>\n",
              "      <td>M7A</td>\n",
              "      <td>Queen's Park</td>\n",
              "      <td>Ontario Provincial Government</td>\n",
              "    </tr>\n",
              "    <tr>\n",
              "      <th>...</th>\n",
              "      <td>...</td>\n",
              "      <td>...</td>\n",
              "      <td>...</td>\n",
              "    </tr>\n",
              "    <tr>\n",
              "      <th>98</th>\n",
              "      <td>M8X</td>\n",
              "      <td>Etobicoke</td>\n",
              "      <td>The Kingsway , Montgomery Road , Old Mill North</td>\n",
              "    </tr>\n",
              "    <tr>\n",
              "      <th>99</th>\n",
              "      <td>M4Y</td>\n",
              "      <td>Downtown Toronto</td>\n",
              "      <td>Church and Wellesley</td>\n",
              "    </tr>\n",
              "    <tr>\n",
              "      <th>100</th>\n",
              "      <td>M7Y</td>\n",
              "      <td>East TorontoBusiness reply mail Processing Cen...</td>\n",
              "      <td>Enclave of M4L</td>\n",
              "    </tr>\n",
              "    <tr>\n",
              "      <th>101</th>\n",
              "      <td>M8Y</td>\n",
              "      <td>Etobicoke</td>\n",
              "      <td>Old Mill South , King's Mill Park , Sunnylea ,...</td>\n",
              "    </tr>\n",
              "    <tr>\n",
              "      <th>102</th>\n",
              "      <td>M8Z</td>\n",
              "      <td>Etobicoke</td>\n",
              "      <td>Mimico NW , The Queensway West , South of Bloo...</td>\n",
              "    </tr>\n",
              "  </tbody>\n",
              "</table>\n",
              "<p>103 rows × 3 columns</p>\n",
              "</div>"
            ],
            "text/plain": [
              "    PostalCode                                            Borough  \\\n",
              "0          M3A                                         North York   \n",
              "1          M4A                                         North York   \n",
              "2          M5A                                   Downtown Toronto   \n",
              "3          M6A                                         North York   \n",
              "4          M7A                                       Queen's Park   \n",
              "..         ...                                                ...   \n",
              "98         M8X                                          Etobicoke   \n",
              "99         M4Y                                   Downtown Toronto   \n",
              "100        M7Y  East TorontoBusiness reply mail Processing Cen...   \n",
              "101        M8Y                                          Etobicoke   \n",
              "102        M8Z                                          Etobicoke   \n",
              "\n",
              "                                          Neighborhood  \n",
              "0                                            Parkwoods  \n",
              "1                                     Victoria Village  \n",
              "2                           Regent Park , Harbourfront  \n",
              "3                    Lawrence Manor , Lawrence Heights  \n",
              "4                        Ontario Provincial Government  \n",
              "..                                                 ...  \n",
              "98     The Kingsway , Montgomery Road , Old Mill North  \n",
              "99                                Church and Wellesley  \n",
              "100                                     Enclave of M4L  \n",
              "101  Old Mill South , King's Mill Park , Sunnylea ,...  \n",
              "102  Mimico NW , The Queensway West , South of Bloo...  \n",
              "\n",
              "[103 rows x 3 columns]"
            ]
          },
          "metadata": {
            "tags": []
          },
          "execution_count": 5
        }
      ]
    },
    {
      "cell_type": "code",
      "metadata": {
        "id": "UKWfqbL7Kshg"
      },
      "source": [
        ""
      ],
      "execution_count": null,
      "outputs": []
    },
    {
      "cell_type": "code",
      "metadata": {
        "id": "mkOZTk5QKe_G"
      },
      "source": [
        ""
      ],
      "execution_count": null,
      "outputs": []
    }
  ]
}